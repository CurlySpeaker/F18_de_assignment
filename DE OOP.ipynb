{
 "cells": [
  {
   "cell_type": "markdown",
   "metadata": {},
   "source": [
    "# Counting Methods"
   ]
  },
  {
   "cell_type": "code",
   "execution_count": 1,
   "metadata": {},
   "outputs": [],
   "source": [
    "import numpy as np\n",
    "import matplotlib.pyplot as plt\n",
    "\n",
    "class Method():\n",
    "    '''\n",
    "    Base method class for solving the equations or counting errors\n",
    "    '''\n",
    "    \n",
    "    def __init__(self, equation, x0, y0, x1, steps):\n",
    "        self.equation = equation\n",
    "        self.grid = self._init_grid(x0, y0, x1, steps)\n",
    "        self._solve()\n",
    "        \n",
    "    def _init_grid(self, x0, y0, x1, steps):\n",
    "        self.delta = (x1-x0)/steps\n",
    "        x_grid = np.arange(x0, x1, self.delta)\n",
    "        y_grid = np.array([y0])\n",
    "        return [x_grid, y_grid]\n",
    "        \n",
    "    def _solve(self):\n",
    "        raise NotImplementedError()\n",
    "        \n",
    "    def show(self, line='r-', linewidth=2):\n",
    "        '''\n",
    "        Displaying the method grid basssed on line parameters\n",
    "        '''\n",
    "        plt.plot(self.grid[0], self.grid[1], line, label=self.name, linewidth=linewidth)\n",
    "        plt.xlabel('x')\n",
    "        plt.ylabel('y(x)')\n",
    "        plt.legend(loc='upper left')"
   ]
  },
  {
   "cell_type": "code",
   "execution_count": 2,
   "metadata": {},
   "outputs": [],
   "source": [
    "class Euler(Method):\n",
    "    '''\n",
    "    Euler's method for solving initial value problem\n",
    "    '''\n",
    "    \n",
    "    def __init__(self, equation, x0, y0, x1, steps):\n",
    "        self.name = 'Euler'\n",
    "        super().__init__(equation, x0, y0, x1, steps)\n",
    "    \n",
    "    def _solve(self):\n",
    "        delta = self.delta\n",
    "        equation = self.equation\n",
    "        for x in self.grid[0][:-1]:\n",
    "            y = self.grid[1][-1]\n",
    "            \n",
    "            self.grid[1] = np.append(self.grid[1], [y+delta*equation(x,y)])"
   ]
  },
  {
   "cell_type": "code",
   "execution_count": 3,
   "metadata": {},
   "outputs": [],
   "source": [
    "class ImprovedEuler(Method):\n",
    "    '''\n",
    "    Improved euler's method for solving initial value problem\n",
    "    '''\n",
    "    \n",
    "    def __init__(self, equation, x0, y0, x1, steps):\n",
    "        self.name = 'Improved Euler'\n",
    "        super().__init__(equation, x0, y0, x1, steps)\n",
    "    \n",
    "    def _solve(self):\n",
    "        delta = self.delta\n",
    "        equation = self.equation\n",
    "        for x in self.grid[0][:-1]:\n",
    "            y = self.grid[1][-1]\n",
    "            \n",
    "            m1 = equation(x, y)\n",
    "            m2 = equation(x+delta, y+delta*m1)\n",
    "            \n",
    "            self.grid[1] = np.append(self.grid[1], [y+delta*(m1+m2)/2])"
   ]
  },
  {
   "cell_type": "code",
   "execution_count": 4,
   "metadata": {},
   "outputs": [],
   "source": [
    "class RungeKutta(Method):\n",
    "    '''\n",
    "    Runge Kutta method for solving initial value problem\n",
    "    '''\n",
    "    \n",
    "    def __init__(self, equation, x0, y0, x1, steps):\n",
    "        self.name = 'Runge Kunkka'\n",
    "        super().__init__(equation, x0, y0, x1, steps)\n",
    "    \n",
    "    def _solve(self):\n",
    "        delta = self.delta\n",
    "        equation = self.equation\n",
    "        for x in self.grid[0][:-1]:\n",
    "            y = self.grid[1][-1]\n",
    "\n",
    "            k1 = delta*equation(x,y)\n",
    "            k2 = delta*equation(x+delta/2,y+k1/2)\n",
    "            k3 = delta*equation(x+delta/2,y+k2/2)\n",
    "            k4 = delta*equation(x+delta,y+k3)\n",
    "\n",
    "            self.grid[1] = np.append(self.grid[1], [y+(k1+2*k2+2*k3+k4)/6])"
   ]
  },
  {
   "cell_type": "code",
   "execution_count": 5,
   "metadata": {},
   "outputs": [],
   "source": [
    "class Exact(Method):\n",
    "    '''\n",
    "    Exact initial value problem sollution\n",
    "    '''\n",
    "    \n",
    "    def __init__(self, exact_solution, x0, y0, x1, steps):\n",
    "        self.name = 'Exact Solution'\n",
    "        super().__init__(exact_solution, x0, y0, x1, steps)\n",
    "    \n",
    "    def _solve(self):\n",
    "        self.grid[1] = np.array([self.equation(x, self.grid[0][0], self.grid[1][0]) for x in self.grid[0]])"
   ]
  }
 ],
 "metadata": {
  "kernelspec": {
   "display_name": "Python 3",
   "language": "python",
   "name": "python3"
  },
  "language_info": {
   "codemirror_mode": {
    "name": "ipython",
    "version": 3
   },
   "file_extension": ".py",
   "mimetype": "text/x-python",
   "name": "python",
   "nbconvert_exporter": "python",
   "pygments_lexer": "ipython3",
   "version": "3.5.2"
  }
 },
 "nbformat": 4,
 "nbformat_minor": 2
}
