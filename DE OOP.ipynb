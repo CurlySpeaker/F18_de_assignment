{
 "cells": [
  {
   "cell_type": "markdown",
   "metadata": {},
   "source": [
    "# Counting Methods"
   ]
  },
  {
   "cell_type": "code",
   "execution_count": 1,
   "metadata": {},
   "outputs": [],
   "source": [
    "import numpy as np\n",
    "import matplotlib.pyplot as plt\n",
    "\n",
    "class Method():\n",
    "    '''\n",
    "    Base method class for solving the equations or counting errors\n",
    "    '''\n",
    "    \n",
    "    def __init__(self, equation, x0, y0, x1, steps):\n",
    "        self.equation = equation\n",
    "        self.grid = self._init_grid(x0, y0, x1, steps)\n",
    "        self._solve()\n",
    "        \n",
    "    def _init_grid(self, x0, y0, x1, steps):\n",
    "        self.delta = (x1-x0)/steps\n",
    "        x_grid = np.arange(x0, x1, self.delta)\n",
    "        y_grid = np.array([y0])\n",
    "        return [x_grid, y_grid]\n",
    "        \n",
    "    def _solve(self):\n",
    "        raise NotImplementedError()\n",
    "        \n",
    "    def show(self, line='r-', linewidth=2):\n",
    "        '''\n",
    "        Displaying the method grid basssed on line parameters\n",
    "        '''\n",
    "        plt.plot(self.grid[0], self.grid[1], line, label=self.name, linewidth=linewidth)\n",
    "        plt.xlabel('x')\n",
    "        plt.ylabel('y(x)')\n",
    "        plt.legend(loc='upper left')"
   ]
  }
 ],
 "metadata": {
  "kernelspec": {
   "display_name": "Python 3",
   "language": "python",
   "name": "python3"
  },
  "language_info": {
   "codemirror_mode": {
    "name": "ipython",
    "version": 3
   },
   "file_extension": ".py",
   "mimetype": "text/x-python",
   "name": "python",
   "nbconvert_exporter": "python",
   "pygments_lexer": "ipython3",
   "version": "3.5.2"
  }
 },
 "nbformat": 4,
 "nbformat_minor": 2
}
