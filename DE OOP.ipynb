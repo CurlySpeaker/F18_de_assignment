{
 "cells": [
  {
   "cell_type": "markdown",
   "metadata": {},
   "source": [
    "# Counting Methods"
   ]
  },
  {
   "cell_type": "code",
   "execution_count": 1,
   "metadata": {},
   "outputs": [],
   "source": [
    "import numpy as np\n",
    "import matplotlib.pyplot as plt\n",
    "\n",
    "class Method():\n",
    "    '''\n",
    "    Base method class for solving the equations or counting errors\n",
    "    '''\n",
    "    \n",
    "    def __init__(self, equation, x0, y0, x1, steps):\n",
    "        self.equation = equation\n",
    "        self.grid = self._init_grid(x0, y0, x1, steps)\n",
    "        self._solve()\n",
    "        \n",
    "    def _init_grid(self, x0, y0, x1, steps):\n",
    "        self.delta = (x1-x0)/steps\n",
    "        x_grid = np.arange(x0, x1, self.delta)\n",
    "        y_grid = np.array([y0])\n",
    "        return [x_grid, y_grid]\n",
    "        \n",
    "    def _solve(self):\n",
    "        raise NotImplementedError()\n",
    "        \n",
    "    def show(self, line='r-', linewidth=2):\n",
    "        '''\n",
    "        Displaying the method grid basssed on line parameters\n",
    "        '''\n",
    "        plt.plot(self.grid[0], self.grid[1], line, label=self.name, linewidth=linewidth)\n",
    "        plt.xlabel('x')\n",
    "        plt.ylabel('y(x)')\n",
    "        plt.legend(loc='upper left')"
   ]
  },
  {
   "cell_type": "code",
   "execution_count": 2,
   "metadata": {},
   "outputs": [],
   "source": [
    "class Euler(Method):\n",
    "    '''\n",
    "    Euler's method for solving initial value problem\n",
    "    '''\n",
    "    \n",
    "    def __init__(self, equation, x0, y0, x1, steps):\n",
    "        self.name = 'Euler'\n",
    "        super().__init__(equation, x0, y0, x1, steps)\n",
    "    \n",
    "    def _solve(self):\n",
    "        delta = self.delta\n",
    "        equation = self.equation\n",
    "        for x in self.grid[0][:-1]:\n",
    "            y = self.grid[1][-1]\n",
    "            \n",
    "            self.grid[1] = np.append(self.grid[1], [y+delta*equation(x,y)])"
   ]
  },
  {
   "cell_type": "code",
   "execution_count": 3,
   "metadata": {},
   "outputs": [],
   "source": [
    "class ImprovedEuler(Method):\n",
    "    '''\n",
    "    Improved euler's method for solving initial value problem\n",
    "    '''\n",
    "    \n",
    "    def __init__(self, equation, x0, y0, x1, steps):\n",
    "        self.name = 'Improved Euler'\n",
    "        super().__init__(equation, x0, y0, x1, steps)\n",
    "    \n",
    "    def _solve(self):\n",
    "        delta = self.delta\n",
    "        equation = self.equation\n",
    "        for x in self.grid[0][:-1]:\n",
    "            y = self.grid[1][-1]\n",
    "            \n",
    "            m1 = equation(x, y)\n",
    "            m2 = equation(x+delta, y+delta*m1)\n",
    "            \n",
    "            self.grid[1] = np.append(self.grid[1], [y+delta*(m1+m2)/2])"
   ]
  },
  {
   "cell_type": "code",
   "execution_count": 4,
   "metadata": {},
   "outputs": [],
   "source": [
    "class RungeKutta(Method):\n",
    "    '''\n",
    "    Runge Kutta method for solving initial value problem\n",
    "    '''\n",
    "    \n",
    "    def __init__(self, equation, x0, y0, x1, steps):\n",
    "        self.name = 'Runge Kunkka'\n",
    "        super().__init__(equation, x0, y0, x1, steps)\n",
    "    \n",
    "    def _solve(self):\n",
    "        delta = self.delta\n",
    "        equation = self.equation\n",
    "        for x in self.grid[0][:-1]:\n",
    "            y = self.grid[1][-1]\n",
    "\n",
    "            k1 = delta*equation(x,y)\n",
    "            k2 = delta*equation(x+delta/2,y+k1/2)\n",
    "            k3 = delta*equation(x+delta/2,y+k2/2)\n",
    "            k4 = delta*equation(x+delta,y+k3)\n",
    "\n",
    "            self.grid[1] = np.append(self.grid[1], [y+(k1+2*k2+2*k3+k4)/6])"
   ]
  },
  {
   "cell_type": "code",
   "execution_count": 5,
   "metadata": {},
   "outputs": [],
   "source": [
    "class Exact(Method):\n",
    "    '''\n",
    "    Exact initial value problem sollution\n",
    "    '''\n",
    "    \n",
    "    def __init__(self, exact_solution, x0, y0, x1, steps):\n",
    "        self.name = 'Exact Solution'\n",
    "        super().__init__(exact_solution, x0, y0, x1, steps)\n",
    "    \n",
    "    def _solve(self):\n",
    "        self.grid[1] = np.array([self.equation(x, self.grid[0][0], self.grid[1][0]) for x in self.grid[0]])"
   ]
  },
  {
   "cell_type": "markdown",
   "metadata": {},
   "source": [
    "# Error counter"
   ]
  },
  {
   "cell_type": "code",
   "execution_count": 6,
   "metadata": {},
   "outputs": [],
   "source": [
    "class LocalError(Method):\n",
    "    '''\n",
    "    Method for counting local error\n",
    "    '''\n",
    "    \n",
    "    def __init__(self, exact, method):\n",
    "        self.name = method.name + ' local error'\n",
    "        self._solve(exact.grid, method.grid)\n",
    "        \n",
    "    def _solve(self, exact_grid, method_grid):\n",
    "        self.grid = [exact_grid[0], np.abs(exact_grid[1]-method_grid[1])]"
   ]
  },
  {
   "cell_type": "code",
   "execution_count": 7,
   "metadata": {},
   "outputs": [],
   "source": [
    "class GlobalError(Method):\n",
    "    '''\n",
    "    Method for counting global error\n",
    "    '''\n",
    "    \n",
    "    def __init__(self, exact_solution, method, equation, x0, y0, x1):\n",
    "        self.name = 'Global error ' + method.__name__\n",
    "        self._solve(exact_solution, method, equation, x0, y0, x1)\n",
    "        \n",
    "        \n",
    "    def _solve(self, exact_solution, method, equation, x0, y0, x1):\n",
    "        grid_x = np.array([i*10 for i in range(2,50)])\n",
    "        grid_y = []\n",
    "        for step in grid_x:\n",
    "            solution = method(equation, x0, y0, x1, step)\n",
    "            exact = Exact(exact_solution, x0, y0, x1, step)\n",
    "            local_error = LocalError(exact, solution)\n",
    "            grid_y.append(np.max(local_error.grid[1]))\n",
    "        grid_y = np.array(grid_y)\n",
    "        self.grid = [grid_x, grid_y]\n",
    "            "
   ]
  },
  {
   "cell_type": "markdown",
   "metadata": {},
   "source": [
    "# GUI Backend"
   ]
  },
  {
   "cell_type": "code",
   "execution_count": 8,
   "metadata": {},
   "outputs": [],
   "source": [
    "from ipywidgets import interact, interactive, fixed, interact_manual\n",
    "import ipywidgets as widgets\n",
    "\n",
    "class GUI():\n",
    "    \n",
    "    def __init__(self, equation, exact_solution):\n",
    "        self.equation = equation\n",
    "        self.exact_solution = exact_solution\n",
    "        \n",
    "    def show(self):\n",
    "        x0=widgets.IntSlider(value=1, min=1, max=100, step=1, description='x0', continuous_update=False)\n",
    "        y0=widgets.IntSlider(value=3, min=1, max=100, step=1, description='y0', continuous_update=False)\n",
    "        x1=widgets.IntSlider(value=10, min=1, max=100, step=1, description='X', continuous_update=False)\n",
    "        steps=widgets.IntSlider(value=50, min=10, max=10000, step=10, description='steps', continuous_update=False)\n",
    "        to_show=widgets.RadioButtons(\n",
    "            options=['Solution',\n",
    "                     'Local error',\n",
    "                     'Global error'],\n",
    "            description='To show',\n",
    "            value='Solution',\n",
    "        )\n",
    "\n",
    "        euler = widgets.Checkbox(value=True, description='Euler')\n",
    "        improved_euler = widgets.Checkbox(value=True, description='Improved Euler')\n",
    "        runge_kutta = widgets.Checkbox(value=True, description='Runge Kutta')\n",
    "        exact = widgets.Checkbox(value=False, description='Exact')\n",
    "\n",
    "        def update_x1_range(*args):\n",
    "            x1.min = x0.value + 1\n",
    "            \n",
    "        x0.observe(update_x1_range,'value')\n",
    "        \n",
    "        keys = {\n",
    "                'x0': x0,\n",
    "                'y0': y0,\n",
    "                'x1': x1,\n",
    "                'steps': steps,\n",
    "                'exact': exact,\n",
    "                'euler': euler,\n",
    "                'improved_euler': improved_euler,\n",
    "                'runge_kutta': runge_kutta,\n",
    "                'to_show': to_show,\n",
    "            }\n",
    "        \n",
    "\n",
    "        def update_visible(*args):\n",
    "            if to_show.value != 'Solution':\n",
    "                exact.layout.visibility = 'hidden'\n",
    "            else:\n",
    "                exact.layout.visibility = 'visible'\n",
    "            if to_show.value == 'Global error':\n",
    "                steps.layout.visibility = 'hidden'\n",
    "            else:\n",
    "                steps.layout.visibility = 'visible'\n",
    "\n",
    "        to_show.observe(update_visible, 'value')\n",
    "\n",
    "        args = widgets.VBox([x0, y0, x1, steps])\n",
    "        methods = widgets.VBox([to_show, euler, improved_euler, runge_kutta, exact])\n",
    "        \n",
    "        ui = widgets.HBox([methods, args])\n",
    "        \n",
    "        out = widgets.interactive_output(self._show_manager, keys)\n",
    "        \n",
    "        display(ui, out)\n",
    "        \n",
    "    def _show_manager(self, to_show,\n",
    "                     **kwargs):\n",
    "        if to_show == 'Solution':\n",
    "            self._show_equation(**kwargs)\n",
    "        if to_show == 'Local error':\n",
    "            del kwargs['exact']\n",
    "            self._show_local_error(**kwargs)\n",
    "        if to_show == 'Global error':\n",
    "            del kwargs['steps']\n",
    "            del kwargs['exact']\n",
    "            self._show_global_error(**kwargs)\n",
    "        \n",
    "    def _show_equation(self,\n",
    "                       x0, y0, x1, steps,\n",
    "                       euler=True,\n",
    "                       improved_euler=True,\n",
    "                       runge_kutta=True,\n",
    "                       exact=True\n",
    "                      ):\n",
    "            plt.rcParams['figure.figsize'] = [30, 30]\n",
    "            plt.rcParams.update({'font.size': 22})\n",
    "            if euler:\n",
    "                Euler(self.equation, x0, y0, x1, steps).show(line='r-')\n",
    "            if improved_euler:\n",
    "                ImprovedEuler(self.equation, x0, y0, x1, steps).show(line='b-')\n",
    "            if runge_kutta:\n",
    "                RungeKutta(self.equation, x0, y0, x1, steps).show(line='g-')\n",
    "            if exact:\n",
    "                Exact(self.exact_solution, x0, y0, x1, steps).show(line='k--', linewidth=4)\n",
    "            \n",
    "    def _show_local_error(self,\n",
    "                          x0, y0, x1, steps,\n",
    "                          euler=True,\n",
    "                          improved_euler=True,\n",
    "                          runge_kutta=True,\n",
    "                         ):\n",
    "            plt.rcParams['figure.figsize'] = [30, 30]\n",
    "            plt.rcParams.update({'font.size': 22})\n",
    "            exact = Exact(self.exact_solution, x0, y0, x1, steps)\n",
    "            if euler:\n",
    "                method = Euler(self.equation, x0, y0, x1, steps)\n",
    "                LocalError(exact, method).show(line='r-')\n",
    "            if improved_euler:\n",
    "                method = ImprovedEuler(self.equation, x0, y0, x1, steps)\n",
    "                LocalError(exact, method).show(line='b-')\n",
    "            if runge_kutta:\n",
    "                method = RungeKutta(self.equation, x0, y0, x1, steps)\n",
    "                LocalError(exact, method).show(line='g-')\n",
    "                \n",
    "    def _show_global_error(self,\n",
    "                          x0, y0, x1,\n",
    "                          euler=True,\n",
    "                          improved_euler=True,\n",
    "                          runge_kutta=True,\n",
    "                         ):\n",
    "            plt.rcParams['figure.figsize'] = [30, 30]\n",
    "            plt.rcParams.update({'font.size': 22})\n",
    "            if euler:\n",
    "                GlobalError(self.exact_solution, Euler, self.equation, x0, y0, x1).show(line='r-')\n",
    "            if improved_euler:\n",
    "                GlobalError(self.exact_solution, ImprovedEuler, self.equation, x0, y0, x1).show(line='b-')\n",
    "            if runge_kutta:\n",
    "                GlobalError(self.exact_solution, RungeKutta, self.equation, x0, y0, x1).show(line='g-')"
   ]
  },
  {
   "cell_type": "markdown",
   "metadata": {},
   "source": [
    "# Here comes my particular equation"
   ]
  },
  {
   "cell_type": "code",
   "execution_count": 131,
   "metadata": {},
   "outputs": [],
   "source": [
    "def equation(x, y):\n",
    "    return -x + y*(2*x+1)/x\n",
    "\n",
    "def exact_solution(x, x0, y0):\n",
    "    c = (y0-x0/2)/(x0*np.exp(2*x0))\n",
    "    return c*np.exp(x*2)*x + x/2"
   ]
  },
  {
   "cell_type": "code",
   "execution_count": 137,
   "metadata": {
    "scrolled": false
   },
   "outputs": [
    {
     "data": {
      "application/vnd.jupyter.widget-view+json": {
       "model_id": "1a99340de68544fd8466ec41578e3644",
       "version_major": 2,
       "version_minor": 0
      },
      "text/plain": [
       "HBox(children=(VBox(children=(RadioButtons(description='To show', options=('Solution', 'Local error', 'Global …"
      ]
     },
     "metadata": {},
     "output_type": "display_data"
    },
    {
     "data": {
      "application/vnd.jupyter.widget-view+json": {
       "model_id": "a1458f721f194e788983ee9f7e4ebb02",
       "version_major": 2,
       "version_minor": 0
      },
      "text/plain": [
       "Output()"
      ]
     },
     "metadata": {},
     "output_type": "display_data"
    }
   ],
   "source": [
    "gui = GUI(equation, exact_solution)\n",
    "gui.show()"
   ]
  }
 ],
 "metadata": {
  "kernelspec": {
   "display_name": "Python 3",
   "language": "python",
   "name": "python3"
  },
  "language_info": {
   "codemirror_mode": {
    "name": "ipython",
    "version": 3
   },
   "file_extension": ".py",
   "mimetype": "text/x-python",
   "name": "python",
   "nbconvert_exporter": "python",
   "pygments_lexer": "ipython3",
   "version": "3.5.2"
  }
 },
 "nbformat": 4,
 "nbformat_minor": 2
}
